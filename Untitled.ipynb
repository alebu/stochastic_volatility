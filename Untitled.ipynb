{
 "cells": [
  {
   "cell_type": "code",
   "execution_count": 48,
   "id": "final-force",
   "metadata": {},
   "outputs": [],
   "source": [
    "def all_possible_ways_ladder(k):\n",
    "    possible_stesp = [1, 2, 3]\n",
    "    if k == 1:\n",
    "        return 1\n",
    "    elif k == 2:\n",
    "        return 2\n",
    "    elif k == 3:\n",
    "        return 4\n",
    "    else:\n",
    "        return all_possible_ways_ladder(k - 1) + all_possible_ways_ladder(k - 2) + all_possible_ways_ladder(k - 3)"
   ]
  },
  {
   "cell_type": "code",
   "execution_count": 52,
   "id": "transsexual-database",
   "metadata": {},
   "outputs": [
    {
     "data": {
      "text/plain": [
       "7"
      ]
     },
     "execution_count": 52,
     "metadata": {},
     "output_type": "execute_result"
    }
   ],
   "source": [
    "all_possible_ways_ladder(4)"
   ]
  },
  {
   "cell_type": "code",
   "execution_count": null,
   "id": "emotional-discipline",
   "metadata": {},
   "outputs": [],
   "source": [
    "def all_possible_strings_length_k(chars, k):\n",
    "    if k == 1:\n",
    "        return chars\n",
    "    else:\n",
    "        return [\n",
    "            c1 + c \n",
    "            for c in all_possible_strings_length_k(chars, k - 1) \n",
    "            for c1 in chars\n",
    "        ]"
   ]
  },
  {
   "cell_type": "code",
   "execution_count": null,
   "id": "mathematical-underground",
   "metadata": {},
   "outputs": [],
   "source": [
    "i = {\"a\", \"b\"}\n",
    "k = 2\n",
    "\n",
    "{\"a\", \"b\"} <- all_possible_strings_length_k(chars, k - 1) \n",
    "\n",
    "{\"aa\", \"ab\", \"ba\", \"bb\"}"
   ]
  },
  {
   "cell_type": "code",
   "execution_count": 53,
   "id": "compliant-organizer",
   "metadata": {},
   "outputs": [],
   "source": [
    "# inputs\n",
    "k = 3\n",
    "chars = [\"a\", \"b\"]"
   ]
  },
  {
   "cell_type": "code",
   "execution_count": 54,
   "id": "prescribed-ultimate",
   "metadata": {},
   "outputs": [
    {
     "data": {
      "text/plain": [
       "['aaa', 'baa', 'aba', 'bba', 'aab', 'bab', 'abb', 'bbb']"
      ]
     },
     "execution_count": 54,
     "metadata": {},
     "output_type": "execute_result"
    }
   ],
   "source": [
    "all_possible_strings_length_k(chars, k)"
   ]
  },
  {
   "cell_type": "code",
   "execution_count": null,
   "id": "attended-million",
   "metadata": {},
   "outputs": [],
   "source": []
  }
 ],
 "metadata": {
  "kernelspec": {
   "display_name": "my-virtualenv-name",
   "language": "python",
   "name": "my-virtualenv-name"
  },
  "language_info": {
   "codemirror_mode": {
    "name": "ipython",
    "version": 3
   },
   "file_extension": ".py",
   "mimetype": "text/x-python",
   "name": "python",
   "nbconvert_exporter": "python",
   "pygments_lexer": "ipython3",
   "version": "3.9.1"
  }
 },
 "nbformat": 4,
 "nbformat_minor": 5
}
