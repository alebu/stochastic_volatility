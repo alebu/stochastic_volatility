{
 "cells": [
  {
   "cell_type": "markdown",
   "metadata": {},
   "source": [
    "You have a standard deck of playing cards:\n",
    " - 52 cards.\n",
    " - 4 suits: 2 red and 2 black\n",
    " - In each suite there are 13 cards: 2 through 10 and J, Q, K, A.\n",
    "\n",
    "\n",
    "You play the following game:\n",
    " You draw four cards from the decks. The win condition is: at least 3 cards must be red and the sum of the four cards must be above 21. For the purpose of the sum: J = 11, Q = 12, K = 13, A = 1\n",
    "\n",
    "\n",
    "1. Write a function that evaluates if a given draw is a win.\n",
    "2. What is the probability of the win condition?\n",
    "3. Say you're competing against a player with a separate deck who's win condition is at least 2 cards must be red and the sum of the four cards must be above 30. Who has a better chance of winning? If both players meet their win condition it's a draw."
   ]
  },
  {
   "cell_type": "code",
   "execution_count": 11,
   "metadata": {},
   "outputs": [],
   "source": [
    "import numpy as np"
   ]
  },
  {
   "cell_type": "code",
   "execution_count": 5,
   "metadata": {},
   "outputs": [],
   "source": [
    "class Card:\n",
    "    def __init__(self, suit, points):\n",
    "        self.suit = suit\n",
    "        self.points = points\n",
    "\n",
    "deck = []\n",
    "for suit in [\"red\", \"red\", \"black\", \"black\"]:\n",
    "    for points in range(1, 14):\n",
    "        c = Card(suit,points)\n",
    "        deck.append(c)\n",
    "\n"
   ]
  },
  {
   "cell_type": "code",
   "execution_count": 46,
   "metadata": {},
   "outputs": [],
   "source": [
    "def sample_draw(deck):\n",
    "    return np.random.choice(deck, 4, replace = False)\n",
    "\n",
    "def evaluate_draw(draw, req_points, req_no_reds):\n",
    "    sum_of_four_cards = sum([d.points for d in draw])\n",
    "    number_of_red_cards = sum([d.suit == \"red\" for d in draw])\n",
    "    return (sum_of_four_cards > req_points) and (number_of_red_cards >= req_no_reds)"
   ]
  },
  {
   "cell_type": "code",
   "execution_count": 48,
   "metadata": {},
   "outputs": [
    {
     "name": "stdout",
     "output_type": "stream",
     "text": [
      "0.227\n"
     ]
    }
   ],
   "source": [
    "n = 1000\n",
    "x = 0\n",
    "for _ in range(n):\n",
    "    if evaluate_draw(sample_draw(deck), 21, 3):\n",
    "        x += 1\n",
    "\n",
    "print(x/n)"
   ]
  },
  {
   "cell_type": "code",
   "execution_count": 53,
   "metadata": {},
   "outputs": [],
   "source": [
    "n = 10000\n",
    "first_player_wins = 0\n",
    "second_player_wins = 0\n",
    "draws = 0\n",
    "for _ in range(n):\n",
    "    first_player = evaluate_draw(sample_draw(deck), 21, 3)\n",
    "    second_player = evaluate_draw(sample_draw(deck), 30, 2)\n",
    "    if first_player and second_player:\n",
    "        draws += 1\n",
    "    elif first_player and (not second_player):\n",
    "        first_player_wins += 1\n",
    "    elif (not first_player) and second_player:\n",
    "        second_player_wins += 1\n",
    "    else:\n",
    "        draws += 1"
   ]
  }
 ],
 "metadata": {
  "kernelspec": {
   "display_name": "stochastic_volatility-Cqwm9Juw",
   "language": "python",
   "name": "python3"
  },
  "language_info": {
   "codemirror_mode": {
    "name": "ipython",
    "version": 3
   },
   "file_extension": ".py",
   "mimetype": "text/x-python",
   "name": "python",
   "nbconvert_exporter": "python",
   "pygments_lexer": "ipython3",
   "version": "3.9.13"
  },
  "orig_nbformat": 4
 },
 "nbformat": 4,
 "nbformat_minor": 2
}
