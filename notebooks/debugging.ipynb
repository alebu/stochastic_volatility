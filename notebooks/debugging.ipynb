{
 "cells": [
  {
   "cell_type": "code",
   "execution_count": 1,
   "metadata": {},
   "outputs": [],
   "source": [
    "import numpy as np\n",
    "import matplotlib.pyplot as plt\n",
    "import pandas as pd\n",
    "from src.utils import call_option_bsm_formula, call_option_payoff, call_option_delta, call_option_gamma, historical_vol\n",
    "from src.simulation import simulate_gbm, simulate_bm"
   ]
  },
  {
   "cell_type": "code",
   "execution_count": 83,
   "metadata": {},
   "outputs": [],
   "source": [
    "DAYS_IN_A_YEAR = 11\n",
    "SIMULATION_FREQUENCY = 1\n",
    "HEDGING_FREQUENCY = 0.5\n",
    "SIMULATION_STEPS_IN_A_YEAR = DAYS_IN_A_YEAR*SIMULATION_FREQUENCY\n",
    "HEDGING_STEPS_IN_A_YEAR = int(DAYS_IN_A_YEAR*HEDGING_FREQUENCY)\n",
    "delta_t = SIMULATION_FREQUENCY/HEDGING_FREQUENCY\n",
    "T_years = 1\n",
    "S_0 = 100\n",
    "K = S_0\n",
    "sigma = 0.2\n",
    "# t = np.arange(0, SIMULATION_STEPS_IN_A_YEAR + 1, SIMULATION_STEPS_IN_A_YEAR)/SIMULATION_STEPS_IN_A_YEAR\n",
    "t = np.arange(SIMULATION_STEPS_IN_A_YEAR)/(SIMULATION_STEPS_IN_A_YEAR - 1)\n",
    "# need to update hedging code to take into account interest rates\n",
    "r = 0\n",
    "mu = 0.1"
   ]
  },
  {
   "cell_type": "code",
   "execution_count": 96,
   "metadata": {},
   "outputs": [
    {
     "data": {
      "text/plain": [
       "2.0"
      ]
     },
     "execution_count": 96,
     "metadata": {},
     "output_type": "execute_result"
    }
   ],
   "source": [
    "delta_t"
   ]
  },
  {
   "cell_type": "code",
   "execution_count": 84,
   "metadata": {},
   "outputs": [],
   "source": [
    "S = S_0*simulate_gbm(T_years, SIMULATION_STEPS_IN_A_YEAR*T_years, mu, sigma, 1)[:, 0]"
   ]
  },
  {
   "cell_type": "code",
   "execution_count": 85,
   "metadata": {},
   "outputs": [
    {
     "data": {
      "text/plain": [
       "[<matplotlib.lines.Line2D at 0x7f12facb7fa0>]"
      ]
     },
     "execution_count": 85,
     "metadata": {},
     "output_type": "execute_result"
    },
    {
     "data": {
      "image/png": "[encoded data removed]",
      "text/plain": [
       "<Figure size 640x480 with 1 Axes>"
      ]
     },
     "metadata": {},
     "output_type": "display_data"
    }
   ],
   "source": [
    "plt.plot(t, S)"
   ]
  },
  {
   "cell_type": "code",
   "execution_count": 92,
   "metadata": {},
   "outputs": [],
   "source": [
    "def resample_underlying_simulation(S, T, delta_t):\n",
    "    n_simulation_steps = len(S)\n",
    "    n_resampling_steps = int(n_simulation_steps/delta_t)\n",
    "    resampling_steps = np.array([int(delta_t*i) for i in range(n_resampling_steps)])\n",
    "    S_resampled = S[resampling_steps].copy()\n",
    "    t = np.arange(n_simulation_steps)/(n_simulation_steps - 1)\n",
    "    t_resampled = t[resampling_steps].copy()\n",
    "    return S_resampled, t_resampled"
   ]
  },
  {
   "cell_type": "code",
   "execution_count": 93,
   "metadata": {},
   "outputs": [],
   "source": [
    "S_resampled, t_r = resample_underlying_simulation(S, T_years, delta_t)"
   ]
  },
  {
   "cell_type": "code",
   "execution_count": 94,
   "metadata": {},
   "outputs": [
    {
     "data": {
      "text/plain": [
       "array([100.        ,  84.13358652,  96.75046332, 109.73278859,\n",
       "       112.26152429])"
      ]
     },
     "execution_count": 94,
     "metadata": {},
     "output_type": "execute_result"
    }
   ],
   "source": [
    "S_resampled"
   ]
  },
  {
   "cell_type": "code",
   "execution_count": 95,
   "metadata": {},
   "outputs": [
    {
     "data": {
      "text/plain": [
       "array([100.        ,  90.76424095,  84.13358652,  87.33310763,\n",
       "        96.75046332, 106.41127565, 109.73278859, 111.5306736 ,\n",
       "       112.26152429, 108.05833394, 112.24834534])"
      ]
     },
     "execution_count": 95,
     "metadata": {},
     "output_type": "execute_result"
    }
   ],
   "source": [
    "S"
   ]
  },
  {
   "cell_type": "code",
   "execution_count": 90,
   "metadata": {},
   "outputs": [
    {
     "data": {
      "text/plain": [
       "array([0. , 0.1, 0.2, 0.3, 0.4, 0.5, 0.6, 0.7, 0.8, 0.9, 1. ])"
      ]
     },
     "execution_count": 90,
     "metadata": {},
     "output_type": "execute_result"
    }
   ],
   "source": [
    "t"
   ]
  },
  {
   "cell_type": "code",
   "execution_count": 91,
   "metadata": {},
   "outputs": [
    {
     "data": {
      "text/plain": [
       "array([0. , 0.2, 0.4, 0.6, 0.8])"
      ]
     },
     "execution_count": 91,
     "metadata": {},
     "output_type": "execute_result"
    }
   ],
   "source": [
    "t_r"
   ]
  },
  {
   "cell_type": "code",
   "execution_count": null,
   "metadata": {},
   "outputs": [],
   "source": []
  }
 ],
 "metadata": {
  "kernelspec": {
   "display_name": "stochastic_volatility-Cqwm9Juw",
   "language": "python",
   "name": "python3"
  },
  "language_info": {
   "codemirror_mode": {
    "name": "ipython",
    "version": 3
   },
   "file_extension": ".py",
   "mimetype": "text/x-python",
   "name": "python",
   "nbconvert_exporter": "python",
   "pygments_lexer": "ipython3",
   "version": "3.9.13 (main, Aug 25 2022, 23:26:10) \n[GCC 11.2.0]"
  },
  "orig_nbformat": 4,
  "vscode": {
   "interpreter": {
    "hash": "c68173ace7b7fbe8ad45c232f6e065bc6507ce776cb8a6d89f8cb8b051abc447"
   }
  }
 },
 "nbformat": 4,
 "nbformat_minor": 2
}
