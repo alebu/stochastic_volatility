{
 "cells": [
  {
   "cell_type": "code",
   "execution_count": 1,
   "metadata": {},
   "outputs": [],
   "source": [
    "import numpy as np\n",
    "import matplotlib.pyplot as plt\n",
    "import pandas as pd\n",
    "from src.simulation import simulate_gbm"
   ]
  },
  {
   "cell_type": "code",
   "execution_count": 2,
   "metadata": {},
   "outputs": [],
   "source": [
    "DAYS_IN_A_YEAR = 365\n",
    "T_years = 2\n",
    "S_0 = 300\n",
    "K = 250\n",
    "sigma = 0.2\n",
    "r = 0\n",
    "mu = 0.05"
   ]
  },
  {
   "cell_type": "code",
   "execution_count": 3,
   "metadata": {},
   "outputs": [],
   "source": [
    "def realised_vol(S):\n",
    "    # see Shreve pag 106\n",
    "    return (\n",
    "        (   \n",
    "            np.log(\n",
    "                pd.Series(S).shift()/pd.Series(S)\n",
    "            )           \n",
    "        )**2\n",
    "    ).sum()\n",
    "\n",
    "def historical_vol(S, T):\n",
    "    # see Shreve pag 106\n",
    "    return np.sqrt(realised_vol(S)/(T))"
   ]
  },
  {
   "cell_type": "code",
   "execution_count": 4,
   "metadata": {},
   "outputs": [],
   "source": [
    "S = S_0*simulate_gbm(T_years, DAYS_IN_A_YEAR*T_years, r, sigma, 1)[:, 0]"
   ]
  },
  {
   "cell_type": "code",
   "execution_count": 5,
   "metadata": {},
   "outputs": [
    {
     "data": {
      "text/plain": [
       "0.07550406631666706"
      ]
     },
     "execution_count": 5,
     "metadata": {},
     "output_type": "execute_result"
    }
   ],
   "source": [
    "realised_vol(S)"
   ]
  },
  {
   "cell_type": "code",
   "execution_count": 6,
   "metadata": {},
   "outputs": [
    {
     "data": {
      "text/plain": [
       "0.19429882438742013"
      ]
     },
     "execution_count": 6,
     "metadata": {},
     "output_type": "execute_result"
    }
   ],
   "source": [
    "historical_vol(S, T_years)"
   ]
  }
 ],
 "metadata": {
  "kernelspec": {
   "display_name": "stochastic_volatility-Cqwm9Juw",
   "language": "python",
   "name": "python3"
  },
  "language_info": {
   "codemirror_mode": {
    "name": "ipython",
    "version": 3
   },
   "file_extension": ".py",
   "mimetype": "text/x-python",
   "name": "python",
   "nbconvert_exporter": "python",
   "pygments_lexer": "ipython3",
   "version": "3.9.13"
  },
  "orig_nbformat": 4,
  "vscode": {
   "interpreter": {
    "hash": "c68173ace7b7fbe8ad45c232f6e065bc6507ce776cb8a6d89f8cb8b051abc447"
   }
  }
 },
 "nbformat": 4,
 "nbformat_minor": 2
}
